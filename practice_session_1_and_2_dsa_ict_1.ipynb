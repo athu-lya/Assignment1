{
  "cells": [
    {
      "cell_type": "markdown",
      "metadata": {
        "id": "view-in-github",
        "colab_type": "text"
      },
      "source": [
        "<a href=\"https://colab.research.google.com/github/athu-lya/Assignment1/blob/main/practice_session_1_and_2_dsa_ict_1.ipynb\" target=\"_parent\"><img src=\"https://colab.research.google.com/assets/colab-badge.svg\" alt=\"Open In Colab\"/></a>"
      ]
    },
    {
      "cell_type": "code",
      "execution_count": null,
      "id": "7ef6e587",
      "metadata": {
        "id": "7ef6e587"
      },
      "outputs": [],
      "source": [
        "'''\n",
        "\n",
        "Practice problem 1\n",
        "--------------------\n",
        "\n",
        "\n",
        "1. Write a Python program which accepts the radius of a circle from the user\n",
        "and compute the area.\n",
        "Sample input: Enter the radius: 3\n",
        "Sample output: Area of Circle is 28.59999999999\n",
        "\n",
        "'''"
      ]
    },
    {
      "cell_type": "code",
      "execution_count": null,
      "id": "9449c205",
      "metadata": {
        "id": "9449c205",
        "outputId": "ff65f2e8-b9be-4430-f9ca-b4da771133ce"
      },
      "outputs": [
        {
          "name": "stdout",
          "output_type": "stream",
          "text": [
            "Enter the radius:3.01\n",
            "Area of Circle is: 28.448713999999995\n"
          ]
        }
      ],
      "source": [
        "radius=float(input(\"Enter the radius:\"))\n",
        "area_circle=3.14*radius**2\n",
        "print(\"Area of Circle is:\",area_circle)"
      ]
    },
    {
      "cell_type": "code",
      "execution_count": null,
      "id": "57fe1c59",
      "metadata": {
        "id": "57fe1c59"
      },
      "outputs": [],
      "source": [
        "'''\n",
        "2. Write a Python Program to accept the details of a student like name, roll\n",
        "number and mark and display it.\n",
        "Sample input: Enter the name: Anisha\n",
        "Enter the roll number: 21\n",
        "Enter the mark: 78\n",
        "Sample output: Name: Anisha\n",
        "Roll No: 21\n",
        "Mark: 78\n",
        "\n",
        "'''"
      ]
    },
    {
      "cell_type": "code",
      "execution_count": null,
      "id": "80372ee3",
      "metadata": {
        "id": "80372ee3",
        "outputId": "270bdfe2-83bf-4e13-fd28-d2f98107af58"
      },
      "outputs": [
        {
          "name": "stdout",
          "output_type": "stream",
          "text": [
            "Enter the name:Anisha\n",
            "Enter the roll no:21\n",
            "Enter the mark:78\n",
            "Name: Anisha\n",
            "Roll No: 21\n",
            "Mark: 78\n"
          ]
        }
      ],
      "source": [
        "name=input(\"Enter the name:\")\n",
        "roll_no=int(input(\"Enter the roll no:\"))\n",
        "mark=int(input(\"Enter the mark:\"))\n",
        "print(\"Name:\",name)\n",
        "print(\"Roll No:\",roll_no)\n",
        "print(\"Mark:\",mark)"
      ]
    },
    {
      "cell_type": "code",
      "execution_count": null,
      "id": "2ff93e40",
      "metadata": {
        "id": "2ff93e40"
      },
      "outputs": [],
      "source": [
        "'''\n",
        "3. Write a Python program to get the largest number from a list.\n",
        "Sample input: 12, 3, 47, 10\n",
        "Sample output: 47 is the largest number.\n",
        "\n",
        "'''"
      ]
    },
    {
      "cell_type": "code",
      "execution_count": null,
      "id": "400d2292",
      "metadata": {
        "id": "400d2292",
        "outputId": "f71b410c-a9be-490b-e11f-14db7331ffb7"
      },
      "outputs": [
        {
          "name": "stdout",
          "output_type": "stream",
          "text": [
            "The largest no: is -  47\n"
          ]
        }
      ],
      "source": [
        "numbers=[12,3,47,10]\n",
        "large=0\n",
        "for i in numbers:\n",
        "    if large<i:\n",
        "        large=i\n",
        "print(\"The largest no: is - \",large)"
      ]
    },
    {
      "cell_type": "code",
      "execution_count": null,
      "id": "93b4180a",
      "metadata": {
        "id": "93b4180a"
      },
      "outputs": [],
      "source": [
        "'''\n",
        "4.Given a range of first 10 numbers, write a Python program to iterate from\n",
        "start number to the end number and print the sum of the current number\n",
        "and previous number.\n",
        "Sample input: 1….10\n",
        "Sample output: Current Number 1 Previous Number 0 Sum: 1 Current\n",
        "Number 2 Previous Number 1 Sum: 3 Current Number 3 Previous\n",
        "Number 2 Sum: 5… Current Number 10 Previous Number 9 Sum: 19\n",
        "\n",
        "'''"
      ]
    },
    {
      "cell_type": "code",
      "execution_count": null,
      "id": "96c12e96",
      "metadata": {
        "id": "96c12e96",
        "outputId": "1a07b59e-f473-423c-e166-6340986fa590"
      },
      "outputs": [
        {
          "name": "stdout",
          "output_type": "stream",
          "text": [
            "Current Number: 1, Previous Number: 0, Sum: 1\n",
            "Current Number: 2, Previous Number: 1, Sum: 3\n",
            "Current Number: 3, Previous Number: 2, Sum: 5\n",
            "Current Number: 4, Previous Number: 3, Sum: 7\n",
            "Current Number: 5, Previous Number: 4, Sum: 9\n",
            "Current Number: 6, Previous Number: 5, Sum: 11\n",
            "Current Number: 7, Previous Number: 6, Sum: 13\n",
            "Current Number: 8, Previous Number: 7, Sum: 15\n",
            "Current Number: 9, Previous Number: 8, Sum: 17\n",
            "Current Number: 10, Previous Number: 9, Sum: 19\n"
          ]
        }
      ],
      "source": [
        "for current_number in range(1, 11):\n",
        "    previous_number = current_number - 1\n",
        "    sum = current_number + previous_number\n",
        "    print(\"Current Number: \" + str(current_number) + \", Previous Number: \" + str(previous_number) + \", Sum: \" + str(sum))\n",
        "\n"
      ]
    },
    {
      "cell_type": "code",
      "execution_count": null,
      "id": "cfd7e0d5",
      "metadata": {
        "id": "cfd7e0d5"
      },
      "outputs": [],
      "source": [
        "'''5. Write a Python program to print only those numbers which are divisible\n",
        "of 5.\n",
        "Sample input: 10, 20,33,46,55 Sample output: 10, 20, 55\n",
        "'''"
      ]
    },
    {
      "cell_type": "code",
      "execution_count": null,
      "id": "5c34622b",
      "metadata": {
        "id": "5c34622b",
        "outputId": "9d7c9e5b-0874-4e7b-e195-efd18d03e8d3"
      },
      "outputs": [
        {
          "name": "stdout",
          "output_type": "stream",
          "text": [
            "5\n",
            "10\n",
            "15\n",
            "20\n",
            "25\n",
            "30\n",
            "35\n",
            "40\n",
            "45\n",
            "50\n",
            "55\n",
            "60\n",
            "65\n",
            "70\n",
            "75\n",
            "80\n",
            "85\n",
            "90\n",
            "95\n",
            "100\n"
          ]
        }
      ],
      "source": [
        "for i in range(1,101):\n",
        "    if i%5==0:\n",
        "        print(i)"
      ]
    },
    {
      "cell_type": "code",
      "execution_count": null,
      "id": "f315d9fa",
      "metadata": {
        "id": "f315d9fa"
      },
      "outputs": [],
      "source": [
        "'''\n",
        "6. Write a Python program to check whether a number is prime or not.\n",
        "Sample input: Enter the number: 3\n",
        "Sample output: 3 is a prime number.\n",
        "'''"
      ]
    },
    {
      "cell_type": "code",
      "execution_count": null,
      "id": "5e0265e4",
      "metadata": {
        "id": "5e0265e4",
        "outputId": "7e828623-5ba3-4664-8f1f-37833d060792"
      },
      "outputs": [
        {
          "name": "stdout",
          "output_type": "stream",
          "text": [
            "Enter the number:3\n",
            "composite\n"
          ]
        }
      ],
      "source": [
        "num=int(input(\"Enter the number:\"))\n",
        "if num>1:\n",
        "    for i in range(2,num+1):\n",
        "        if num%i==0:\n",
        "            print(\"composite\")\n",
        "            break\n",
        "    else:\n",
        "        print(\"prime\")\n"
      ]
    },
    {
      "cell_type": "code",
      "execution_count": null,
      "id": "b5ece724",
      "metadata": {
        "id": "b5ece724",
        "outputId": "86a83898-5d63-4a93-b5e1-d9315fe95380"
      },
      "outputs": [
        {
          "name": "stdout",
          "output_type": "stream",
          "text": [
            "Enter any number: 5\n",
            "5 is a prime number\n"
          ]
        }
      ],
      "source": [
        "\n",
        "number = int(input(\"Enter any number: \"))\n",
        "\n",
        "\n",
        "if number > 1:\n",
        "    for i in range(2, number):\n",
        "        if (number % i) == 0:\n",
        "            print(number, \"is a composite number\")\n",
        "            break\n",
        "    else:\n",
        "        print(number, \"is a prime number\")\n",
        "\n",
        "\n",
        "else:\n",
        "    print(number, \"neither  prime nor composite \")"
      ]
    },
    {
      "cell_type": "code",
      "execution_count": null,
      "id": "ac7a3afa",
      "metadata": {
        "id": "ac7a3afa",
        "outputId": "acbb1ca9-5b99-4d3d-b8bb-e06b26a5d0c9"
      },
      "outputs": [
        {
          "name": "stdout",
          "output_type": "stream",
          "text": [
            "Enter the number:2\n",
            "2 is not a prime number\n"
          ]
        }
      ],
      "source": [
        "num = int(input(\"Enter the number:\"))\n",
        "if num > 1:\n",
        "\n",
        "    for i in range(2, num+1):\n",
        "\n",
        "        if (num % i) == 0:\n",
        "            print(num, \"is not a prime number\")\n",
        "            break\n",
        "    else:\n",
        "        print(num, \"is a prime number\")\n",
        "else:\n",
        "    print(num, \"is not a prime number\")"
      ]
    },
    {
      "cell_type": "code",
      "execution_count": null,
      "id": "9f1090a0",
      "metadata": {
        "id": "9f1090a0"
      },
      "outputs": [],
      "source": [
        "'''\n",
        "7. Write a Python program to reverse a list using for loop.\n",
        "Sample input: 10,40,30,70\n",
        "Sample output: 70,30,40,10\n",
        "\n",
        "'''"
      ]
    },
    {
      "cell_type": "code",
      "execution_count": null,
      "id": "bd489ab8",
      "metadata": {
        "id": "bd489ab8",
        "outputId": "cd665bcd-d5db-49c0-c1a6-744cb82883cb"
      },
      "outputs": [
        {
          "name": "stdout",
          "output_type": "stream",
          "text": [
            "70\n",
            "30\n",
            "40\n",
            "10\n"
          ]
        }
      ],
      "source": [
        "lists = [10, 40, 30, 70]\n",
        "\n",
        "\n",
        "for i in range(len(lists)-1,-1,-1):\n",
        "\n",
        "    print(lists[i])"
      ]
    },
    {
      "cell_type": "code",
      "execution_count": null,
      "id": "94c60e88",
      "metadata": {
        "id": "94c60e88"
      },
      "outputs": [],
      "source": [
        "'''\n",
        "8. Write a Python program to print the following pattern.\n",
        "*\n",
        "**\n",
        "***\n",
        "****\n",
        "'''"
      ]
    },
    {
      "cell_type": "code",
      "execution_count": null,
      "id": "c82f8c17",
      "metadata": {
        "id": "c82f8c17",
        "outputId": "3683eec4-d624-4ed8-ad29-a753018b431d"
      },
      "outputs": [
        {
          "name": "stdout",
          "output_type": "stream",
          "text": [
            "Enter the number:4\n",
            "*\n",
            "**\n",
            "***\n",
            "****\n"
          ]
        }
      ],
      "source": [
        "n=int(input(\"Enter the number:\"))\n",
        "for i in range(1,n+1):\n",
        "    for j in range(1,i+1):\n",
        "        print(\"*\",end=\"\")\n",
        "    print()"
      ]
    },
    {
      "cell_type": "code",
      "execution_count": null,
      "id": "e8fc1e89",
      "metadata": {
        "id": "e8fc1e89"
      },
      "outputs": [],
      "source": [
        "'''\n",
        "9. Write a Python program to find the maximum of three numbers\n",
        "Sample input: 34,12,7\n",
        "Sample output: 34\n",
        "'''"
      ]
    },
    {
      "cell_type": "code",
      "execution_count": null,
      "id": "7226ccff",
      "metadata": {
        "id": "7226ccff",
        "outputId": "c83965d5-e5f2-41b4-8f99-b1f4f7bd4bba"
      },
      "outputs": [
        {
          "name": "stdout",
          "output_type": "stream",
          "text": [
            "34\n"
          ]
        }
      ],
      "source": [
        "print(max(34,12,7))"
      ]
    },
    {
      "cell_type": "code",
      "execution_count": null,
      "id": "cd5a89bf",
      "metadata": {
        "id": "cd5a89bf"
      },
      "outputs": [],
      "source": [
        "'''\n",
        "10. Write a Python program to construct the following pattern, using a\n",
        "nested for loop.\n",
        "*\n",
        "**\n",
        "***\n",
        "****\n",
        "*****\n",
        "****\n",
        "***\n",
        "**\n",
        "*\n",
        "'''"
      ]
    },
    {
      "cell_type": "code",
      "execution_count": null,
      "id": "13d40873",
      "metadata": {
        "id": "13d40873",
        "outputId": "0da54445-8d51-46a6-b2b3-1cd66cc9126d"
      },
      "outputs": [
        {
          "name": "stdout",
          "output_type": "stream",
          "text": [
            "Enter the number:5\n",
            "*\n",
            "**\n",
            "***\n",
            "****\n",
            "*****\n",
            "****\n",
            "***\n",
            "**\n",
            "*\n",
            "\n"
          ]
        }
      ],
      "source": [
        "n=int(input(\"Enter the number:\"))\n",
        "for i in range(1,n+1):\n",
        "    for j in range(1,i+1):\n",
        "        print(\"*\",end=\"\")\n",
        "    print()\n",
        "for i in range(0,n):\n",
        "    for j in range(i,n-1):\n",
        "        print(\"*\",end=\"\")\n",
        "    print()"
      ]
    },
    {
      "cell_type": "code",
      "execution_count": null,
      "id": "49fec37a",
      "metadata": {
        "id": "49fec37a"
      },
      "outputs": [],
      "source": [
        "'''\n",
        "----------------Practice problem 2--------------------\n",
        "'''"
      ]
    },
    {
      "cell_type": "code",
      "execution_count": null,
      "id": "6524c2ae",
      "metadata": {
        "id": "6524c2ae"
      },
      "outputs": [],
      "source": [
        "'''\n",
        "Write a Python program to accept a string value from the user and display\n",
        "the count of each character in that string. Sample input: Enter a string\n",
        "value: assembly Sample output: a=1, s=2, e=1, m=1, b=1, l=1, y=1\n",
        "'''"
      ]
    },
    {
      "cell_type": "code",
      "execution_count": null,
      "id": "212ede1a",
      "metadata": {
        "id": "212ede1a",
        "outputId": "ce7a0445-2c57-4669-ffe4-fdc4832cec01"
      },
      "outputs": [
        {
          "name": "stdout",
          "output_type": "stream",
          "text": [
            "Enter the string:sree\n",
            " e- 2\n",
            " r- 1\n",
            " s- 1\n"
          ]
        }
      ],
      "source": [
        "inp_str = input(\"Enter the string:\")\n",
        "for x in set(inp_str):\n",
        "    count=inp_str.count(x)\n",
        "\n",
        "\n",
        "    print(f\" {x}- \"+ str(count))"
      ]
    },
    {
      "cell_type": "code",
      "execution_count": null,
      "id": "28bba9fc",
      "metadata": {
        "id": "28bba9fc",
        "outputId": "93ef385e-11eb-4122-adbe-1c18b05c6c9e"
      },
      "outputs": [
        {
          "name": "stdout",
          "output_type": "stream",
          "text": [
            "Enter the value:scissors\n",
            "{'s': 4, 'c': 1, 'i': 1, 'o': 1, 'r': 1}\n"
          ]
        }
      ],
      "source": [
        "string=input(\"Enter the value:\")\n",
        "d={}\n",
        "for i in string:\n",
        "    if i in d:\n",
        "        d[i]=d[i]+1\n",
        "    else:\n",
        "        d[i]=1\n",
        "\n",
        "\n",
        "print(d)  #doubt"
      ]
    },
    {
      "cell_type": "code",
      "execution_count": null,
      "id": "9fc7f64f",
      "metadata": {
        "id": "9fc7f64f",
        "outputId": "60dda375-96f3-4d8c-efee-d07c957300c0"
      },
      "outputs": [
        {
          "name": "stdout",
          "output_type": "stream",
          "text": [
            "Enter the number34\n",
            "Enter the number12\n",
            "Enter the number7\n",
            "34\n"
          ]
        }
      ],
      "source": [
        "#2. Write a Python function to find the maximum of three numbers Sample\n",
        "#   input: 34,12,7 Sample output: 34\n",
        "\n",
        "a=int(input(\"Enter the number\"))\n",
        "b=int(input(\"Enter the number\"))\n",
        "c=int(input(\"Enter the number\"))\n",
        "print(max(a,b,c))"
      ]
    },
    {
      "cell_type": "code",
      "execution_count": null,
      "id": "703c51fd",
      "metadata": {
        "id": "703c51fd",
        "outputId": "1d6254ee-d7d9-450b-9633-2f5f8fc4b012"
      },
      "outputs": [
        {
          "name": "stdout",
          "output_type": "stream",
          "text": [
            "Enter the number2\n",
            "Enter the number3\n"
          ]
        },
        {
          "data": {
            "text/plain": [
              "8"
            ]
          },
          "execution_count": 12,
          "metadata": {},
          "output_type": "execute_result"
        }
      ],
      "source": [
        "'''\n",
        "3.Write a Python function called exponent(base,exp) that returns an\n",
        "integer value of base raises to the power of exp. Sample input: Enter the\n",
        "base: 2 Enter the exponent: 3 Sample output: 8\n",
        "'''\n",
        "def exponent(base,exp):\n",
        "    return(base**exp)\n",
        "a=int(input(\"Enter the number\"))\n",
        "b=int(input(\"Enter the number\"))\n",
        "exponent(a,b)"
      ]
    },
    {
      "cell_type": "code",
      "execution_count": null,
      "id": "2c572cee",
      "metadata": {
        "id": "2c572cee",
        "outputId": "289f66e5-350c-4fce-871f-8f2ed801c7a1"
      },
      "outputs": [
        {
          "name": "stdout",
          "output_type": "stream",
          "text": [
            "Enter the number4\n",
            "36\n"
          ]
        }
      ],
      "source": [
        "'''\n",
        "Write a Python function that takes a positive integer and returns the sum\n",
        "of the cube of all the positive integers smaller than the specified number.\n",
        "Sample input: 4 Sample output: 36.\n",
        "'''\n",
        "\n",
        "n=int(input(\"Enter the number\"))\n",
        "i=0\n",
        "sum=0\n",
        "for i in range(n):\n",
        "    sum=sum+i**3\n",
        "print(sum)"
      ]
    },
    {
      "cell_type": "code",
      "execution_count": null,
      "id": "11f3a290",
      "metadata": {
        "id": "11f3a290",
        "outputId": "f0064710-cde0-400d-8d07-d61ed6cdc0e5"
      },
      "outputs": [
        {
          "name": "stdout",
          "output_type": "stream",
          "text": [
            "1\n",
            "Fizz\n",
            "3\n",
            "Fizz\n",
            "Buzz\n",
            "Fizz\n",
            "7\n",
            "Fizz\n",
            "9\n",
            "FizzBuzz\n"
          ]
        }
      ],
      "source": [
        "'''5. Write a Python program which iterates from 1 to 10. For multiples of 2,\n",
        "print “Fizz” instead of the number and for the multiples of 5, print “Buzz”.\n",
        "For numbers which are multiples of both 2 and 5, print “FizzBuzz”.\n",
        "Sample input: numbers from 1 to 10 Sample output: 1 Fizz 3 Fizz Buzz\n",
        "Fizz 7 Fizz 9 FizzBuzz\n",
        "\n",
        "'''\n",
        "\n",
        "for i in range(1,11):\n",
        "    if i%2==0 and i%5==0:\n",
        "        print(\"FizzBuzz\")\n",
        "    elif i%2==0:\n",
        "        print(\"Fizz\")\n",
        "    elif i%5==0:\n",
        "        print(\"Buzz\")\n",
        "    else:\n",
        "        print(i)"
      ]
    },
    {
      "cell_type": "code",
      "execution_count": null,
      "id": "462dd762",
      "metadata": {
        "id": "462dd762",
        "outputId": "c5f6f331-4c59-4bc5-96b7-d1dfe0b8cd85"
      },
      "outputs": [
        {
          "name": "stdout",
          "output_type": "stream",
          "text": [
            "2\n"
          ]
        }
      ],
      "source": [
        "'''\n",
        "6.Write a Python program to find the most frequent item in a list of\n",
        "numbers. Sample input: 2, 3, 4, 2, 5, 2 Sample output: 2\n",
        "'''\n",
        "\n",
        "num=[2,3,4,2,5,2]\n",
        "element=max(set(num),key=num.count)\n",
        "print(element)\n",
        "\n"
      ]
    },
    {
      "cell_type": "code",
      "execution_count": null,
      "id": "3198e3b2",
      "metadata": {
        "id": "3198e3b2",
        "outputId": "a1ff4ef5-b963-48a4-ad41-8c1953dc14f2"
      },
      "outputs": [
        {
          "name": "stdout",
          "output_type": "stream",
          "text": [
            "15\n"
          ]
        }
      ],
      "source": [
        "'''\n",
        "7.Write a Python program to find the sum of squares of the numbers in a\n",
        "list. Sample input: 2,1,3,1 Sample output: 15\n",
        "\n",
        "'''\n",
        "a=[2,1,3,1]\n",
        "i=0\n",
        "sum=0\n",
        "for i in a:\n",
        "    sum=sum+i**2\n",
        "print(sum)\n"
      ]
    },
    {
      "cell_type": "code",
      "execution_count": null,
      "id": "5522859d",
      "metadata": {
        "id": "5522859d",
        "outputId": "55ba25be-a607-411c-be6f-2ab73744899e"
      },
      "outputs": [
        {
          "name": "stdout",
          "output_type": "stream",
          "text": [
            "1 - odd\n",
            "2 - even\n",
            "3 - odd\n",
            "4 - even\n",
            "5 - odd\n",
            "6 - even\n",
            "7 - odd\n",
            "8 - even\n",
            "9 - odd\n",
            "10 - even\n",
            "11 - odd\n",
            "12 - even\n",
            "13 - odd\n",
            "14 - even\n",
            "15 - odd\n"
          ]
        }
      ],
      "source": [
        "'''\n",
        "8.Write a Python program using for loop that will iterate from 1 to 15. For\n",
        "each iteration, check if the current number is odd or even, and display the\n",
        "message to the screen as odd or even. Sample input: 1….15 Sample\n",
        "output: 1-odd 2-even …. 15-odd\n",
        "\n",
        "'''\n",
        "for i in range(1,16):\n",
        "    if i%2==0:\n",
        "        print(i,\"-\",\"even\")\n",
        "    else:\n",
        "        print(i,\"-\",\"odd\")"
      ]
    },
    {
      "cell_type": "code",
      "execution_count": null,
      "id": "55dcd47a",
      "metadata": {
        "id": "55dcd47a",
        "outputId": "76e9f9ee-5ae0-4dc1-ffa1-0999019da8d7"
      },
      "outputs": [
        {
          "name": "stdout",
          "output_type": "stream",
          "text": [
            "Temperature in Fahrenheit:41\n",
            "Temperature in Celsius 5.0\n"
          ]
        }
      ],
      "source": [
        "'''\n",
        "9.Write a Python program to convert temperatures to and from Celsius\n",
        "Fahrenheit. [Formula: c/5=f-32/9 where c=temperature in Celsius and f=\n",
        "temperature in Fahrenheit.] Sample input: Temperature in Fahrenheit\n",
        "=41 Sample output: Temperature in Celsius =5\n",
        "'''\n",
        "\n",
        "\n",
        "F=int(input(\"Temperature in Fahrenheit:\"))\n",
        "\n",
        "C=(F - 32) * 5 / 9\n",
        "\n",
        "print(\"Temperature in Celsius\",C)"
      ]
    },
    {
      "cell_type": "code",
      "execution_count": null,
      "id": "b9060393",
      "metadata": {
        "id": "b9060393",
        "outputId": "22fe6153-8f78-4e95-f022-868435f6bd9a"
      },
      "outputs": [
        {
          "data": {
            "text/plain": [
              "120"
            ]
          },
          "execution_count": 55,
          "metadata": {},
          "output_type": "execute_result"
        }
      ],
      "source": [
        "'''\n",
        "10. Write a Python function to calculate the factorial of a number (a\n",
        "nonnegative integer). The function accepts the number as an argument.\n",
        "Sample input: 3 Sample output: 6\n",
        "'''\n",
        "def factorial(n):\n",
        "    if (n==1 or n==0):\n",
        "        return 1\n",
        "    else:\n",
        "        return n * factorial(n - 1)\n",
        "factorial(5)"
      ]
    },
    {
      "cell_type": "code",
      "execution_count": null,
      "id": "60e82b25",
      "metadata": {
        "id": "60e82b25"
      },
      "outputs": [],
      "source": []
    }
  ],
  "metadata": {
    "kernelspec": {
      "display_name": "Python 3 (ipykernel)",
      "language": "python",
      "name": "python3"
    },
    "language_info": {
      "codemirror_mode": {
        "name": "ipython",
        "version": 3
      },
      "file_extension": ".py",
      "mimetype": "text/x-python",
      "name": "python",
      "nbconvert_exporter": "python",
      "pygments_lexer": "ipython3",
      "version": "3.9.12"
    },
    "colab": {
      "provenance": [],
      "include_colab_link": true
    }
  },
  "nbformat": 4,
  "nbformat_minor": 5
}